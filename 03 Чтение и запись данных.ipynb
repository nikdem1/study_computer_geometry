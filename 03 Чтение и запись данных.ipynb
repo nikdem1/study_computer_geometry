{
 "cells": [
  {
   "cell_type": "code",
   "execution_count": 1,
   "metadata": {
    "collapsed": true
   },
   "outputs": [],
   "source": [
    "# -*- coding: utf-8 -*-\n",
    "import numpy as np"
   ]
  },
  {
   "cell_type": "markdown",
   "metadata": {},
   "source": [
    "# Чтение и запись данных"
   ]
  },
  {
   "cell_type": "markdown",
   "metadata": {},
   "source": [
    "№№ Чтение"
   ]
  },
  {
   "cell_type": "markdown",
   "metadata": {},
   "source": [
    "Библиотека `NumPy` предоставляет ряд средств, которые позволяют считывать данные из файлов разного формата, а также сохранять массивы в виде файлов для дальнейшего использования. Полный список функций, реализующих считывание и запись файлов, можно найти в разделе Input and output официальной документации по [ссылке](https://docs.scipy.org/doc/numpy-1.13.0/reference/routines.io.html). Мы рассмотрим наиболее часто применяемые из этих функций.\n",
    "\n",
    "Для преобразования данных, хранящихся в текстовом виде, можно использовать две функции `np.loadtxt` и `np.genfromtxt`. Последняя функция может обработать данные, содержащие ошибки или пропуски. В остальном же эти функции похожи. Рассмотрим примеры их работы. Создадим вначале текстовой файл `data.csv`, содержащий данные числовые следующего вида:\n",
    "```\n",
    "t,x,y\n",
    "0.1,0.1,0.2\n",
    "0.2,0.15,0.1\n",
    "0.3,0.2,0.15\n",
    "0.4,0.25,0.2\n",
    "```"
   ]
  },
  {
   "cell_type": "code",
   "execution_count": 7,
   "metadata": {},
   "outputs": [
    {
     "name": "stdout",
     "output_type": "stream",
     "text": [
      "Overwriting data.csv\n"
     ]
    }
   ],
   "source": [
    "%%writefile data.csv\n",
    "t,x,y\n",
    "0.1,1.1,3.2\n",
    "0.2,1.15,2.1\n",
    "0.3,1.2,1.15\n",
    "0.4,1.25,2.2"
   ]
  },
  {
   "cell_type": "markdown",
   "metadata": {},
   "source": [
    "Файлы такого формата получили название CSV-файлов (comma separated values --- значения разделенные запятыми) и широко применяются для хранения табличных данных не требующих форматирования. В качестве разделителя также часто используется точка с запятой. В таком формате удобно хранить результаты не очень объемных вычислений. Рассмотрим, как с помощью `np.loadtxt` можно извлечь данные из CSV-файла."
   ]
  },
  {
   "cell_type": "code",
   "execution_count": 8,
   "metadata": {},
   "outputs": [
    {
     "name": "stdout",
     "output_type": "stream",
     "text": [
      "[[ 0.1   1.1   3.2 ]\n",
      " [ 0.2   1.15  2.1 ]\n",
      " [ 0.3   1.2   1.15]\n",
      " [ 0.4   1.25  2.2 ]]\n"
     ]
    }
   ],
   "source": [
    "data = np.loadtxt(fname='data.csv', skiprows=1, delimiter=',')\n",
    "print(data)"
   ]
  },
  {
   "cell_type": "markdown",
   "metadata": {},
   "source": [
    "Параметр `skiprows` равный $1$ указывает на то, что при считывании необходимо пропустить первую строку, так как в ней содержатся не числовые данные (названия колонок). Параметр `delimiter` задает разделитель. В нашем случае это запятая, но можно задать любой символ. По умолчанию за разделитель считается пробел. По завершении считывания файла функция возвращает двумерный массив. Однако можно считать каждую колонку в отдельную переменную, воспользовавшись параметром `unpack`."
   ]
  },
  {
   "cell_type": "code",
   "execution_count": 9,
   "metadata": {},
   "outputs": [
    {
     "name": "stdout",
     "output_type": "stream",
     "text": [
      "[ 0.1  0.2  0.3  0.4] [ 1.1   1.15  1.2   1.25] [ 3.2   2.1   1.15  2.2 ]\n"
     ]
    }
   ],
   "source": [
    "t, x, y = np.loadtxt(fname='data.csv', unpack=True, skiprows=1, delimiter=',')\n",
    "print(t, x, y)"
   ]
  },
  {
   "cell_type": "markdown",
   "metadata": {},
   "source": [
    "Есть возможность указать тип считываемых значений явным образом с помощью аргумента `dtype`, причем для разных колонок можно указать разный тип данных. Делается это следующим образом."
   ]
  },
  {
   "cell_type": "code",
   "execution_count": 21,
   "metadata": {},
   "outputs": [],
   "source": [
    "types = {'names': ('t', 'x', 'y'),\n",
    "         'formats': ('f4', 'i4', 'i4')}\n",
    "data = np.loadtxt(fname='data.csv', dtype=types, skiprows=1, delimiter=',')"
   ]
  },
  {
   "cell_type": "markdown",
   "metadata": {},
   "source": [
    "При этом создается массив специального смешанного типа, к однотипным элементам которого можно обращается по именам полей, которые мы указали в переменной `types`. В случае, если необходимо работать с объемными таблицами с разнородными данными, то предпочтительнее использовать библиотеку `Pandas`, которая специально предназначена для этого."
   ]
  },
  {
   "cell_type": "code",
   "execution_count": 25,
   "metadata": {},
   "outputs": [
    {
     "data": {
      "text/plain": [
       "array([ 0.1       ,  0.2       ,  0.30000001,  0.40000001], dtype=float32)"
      ]
     },
     "execution_count": 25,
     "metadata": {},
     "output_type": "execute_result"
    }
   ],
   "source": [
    "data['t']"
   ]
  },
  {
   "cell_type": "markdown",
   "metadata": {},
   "source": [
    "В случае однородных данных достаточно передать `dtype` один аргумент."
   ]
  },
  {
   "cell_type": "code",
   "execution_count": 29,
   "metadata": {},
   "outputs": [],
   "source": [
    "data = np.loadtxt(fname='data.csv', dtype=np.float64, skiprows=1, delimiter=',')"
   ]
  },
  {
   "cell_type": "markdown",
   "metadata": {},
   "source": []
  }
 ],
 "metadata": {
  "kernelspec": {
   "display_name": "Python 3",
   "language": "python",
   "name": "python3"
  },
  "language_info": {
   "codemirror_mode": {
    "name": "ipython",
    "version": 3
   },
   "file_extension": ".py",
   "mimetype": "text/x-python",
   "name": "python",
   "nbconvert_exporter": "python",
   "pygments_lexer": "ipython3",
   "version": "3.6.3"
  }
 },
 "nbformat": 4,
 "nbformat_minor": 2
}
