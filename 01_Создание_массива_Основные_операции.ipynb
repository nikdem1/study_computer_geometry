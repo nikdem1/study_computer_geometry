{
 "cells": [
  {
   "cell_type": "markdown",
   "metadata": {},
   "source": [
    "# Создание `NumPy` массива. Основные операции."
   ]
  },
  {
   "cell_type": "markdown",
   "metadata": {},
   "source": [
    "## Общая характеристика библиотеки NumPy"
   ]
  },
  {
   "cell_type": "markdown",
   "metadata": {},
   "source": [
    "Библиотека `NumPy` (Numerical Python) привносит в Python новый тип данных, который предназначен для хранения и работы с массивами числовых данных, а также реализует большое количество разнообразных функций для манипуляции, генерации, фильтрации, сортировки массивов. Реализованы также разнообразные математические, в том числе используются функции-обертки процедур библиотеки `LAPACK`, позволяющие решать задачи линейной алгебры.\n",
    "\n",
    "В случае, если вы используете WinPython или Anaconda Python, то библиотека NumPy уже установлена. В случае Miniconda ее надо установить выполнив команду\n",
    "```bash\n",
    "  conda install numpy\n",
    "```\n",
    "после чего можно будет импортировать NumPy. Подключение любых библиотек осуществляется командой `import`. Инструкция `as` позволяет переименовать импортируемый модуль, чтобы название было короче и им было удобнее пользоваться при наборе кода. Для библиотеки `Numpy` стандартом стало  двухбуквенное сокращение `np`.\n",
    "```python\n",
    "  import numpy as np\n",
    "```\n",
    "После импорта, все функции и подмодули библиотеки `NumPy` станут доступны посредством оператора точка `'.'`. Подобная изоляция *пространства имен* разных модулей позволяет избежать конфликта имен и служит инструментом структурирования функционала библиотеки, позволяя распределить функции по тематическим подмодулям.\n",
    "\n",
    "Массивы `NumPy` в первом приближении похожи на встроенный в `Python` тип данных `list`, но работают гораздо быстрее, так как каждый массив хранят данные только одного типа и их размер задается при инициализации. Это позволяет сократить накладные расходы памяти и уменьшить время доступа. Большинство функций и структур данных библиотеки `NumPy` реализованы на языках `С/С++` и `Fortran`. Также активно используется векторизация безиндексных операций над массивами, позволяющая задействовать все ядра многоядерных процессоров и распределить работу между ними.\n",
    "\n",
    "В данной главе дается краткое введение в основные возможности `NumPy` версии не ниже `1.13`."
   ]
  },
  {
   "cell_type": "code",
   "execution_count": 1,
   "metadata": {
    "collapsed": true
   },
   "outputs": [],
   "source": [
    "#! /usr/bin/env python3\n",
    "# -*- coding: utf-8 -*-\n",
    "import numpy as np"
   ]
  },
  {
   "cell_type": "code",
   "execution_count": 2,
   "metadata": {
    "collapsed": true
   },
   "outputs": [],
   "source": [
    "import math"
   ]
  },
  {
   "cell_type": "markdown",
   "metadata": {
    "collapsed": true
   },
   "source": [
    "## Создание массива"
   ]
  },
  {
   "cell_type": "markdown",
   "metadata": {},
   "source": [
    "Основной функцией для создания массива служит функция `np.array()`.  Она принимает перечисляемые типы данных (`list`, `tuple`, генераторы и т.д.) и создает на их основе `numpy` массив. Переданная структура должна состоять из элементов одного типа. В случае числовых данных допускается комбинация целых, рациональных, вещественных и комплексных числе, однако при создании массива они будут приведены к наиболее общему типу. Рассмотрим ряд примеров."
   ]
  },
  {
   "cell_type": "code",
   "execution_count": 3,
   "metadata": {},
   "outputs": [
    {
     "name": "stdout",
     "output_type": "stream",
     "text": [
      "[1 2 3 4 5] тип элементов int64\n",
      "[ 1.  2.  3.  4.  5.] тип элементов float64\n",
      "[ 1.+0.j  2.+0.j  3.+1.j  4.+0.j  5.+0.j] тип элементов complex128\n",
      "['1' '2.0' '3' '4' '5'] тип элементов <U32\n",
      "['1' '2.0' '(3+1j)' 'a' '5'] тип элементов <U64\n"
     ]
    }
   ],
   "source": [
    "a = np.array([1, 2, 3, 4, 5])\n",
    "print(a, 'тип элементов', a.dtype)\n",
    "# если хотя бы один элемент вещественный, то весь массив будет иметь вещественный тип\n",
    "a = np.array([1, 2.0, 3, 4, 5])\n",
    "print(a, 'тип элементов', a.dtype)\n",
    "# то же самое справедливо для комплексного типа\n",
    "a = np.array([1, 2.0, 3 + 1j, 4, 5])\n",
    "print(a, 'тип элементов', a.dtype)\n",
    "# можно передавать строки, тогда результатом будет символьный массив\n",
    "a = np.array([1, 2.0, 3, '4', 5])\n",
    "print(a, 'тип элементов', a.dtype)\n",
    "a = np.array([1, 2.0, 3 + 1j, 'a', 5])\n",
    "print(a, 'тип элементов', a.dtype)"
   ]
  },
  {
   "cell_type": "markdown",
   "metadata": {},
   "source": [
    "Тип передаваемых элеметов можно указать явным образом с помощью аргумента `dtype`"
   ]
  },
  {
   "cell_type": "code",
   "execution_count": 4,
   "metadata": {},
   "outputs": [
    {
     "name": "stdout",
     "output_type": "stream",
     "text": [
      "[ 1.  2.  3.  4.  5.] тип элементов float64\n"
     ]
    }
   ],
   "source": [
    "a = np.array([1, 2, 3, 4, 5], dtype=np.float64)\n",
    "print(a, 'тип элементов', a.dtype)"
   ]
  },
  {
   "cell_type": "markdown",
   "metadata": {},
   "source": [
    "`Numpy` поддерживает стандартные типы данных `Python` и плюс к этому определяет более специфические численные типы, вроде беззнаковых целых (`uint8`, `uint16`, `uint32` и `uint64`), действительных чисел (`float16`, `float32` и `float64`), комплексных чисел (`complex64`, `complex128`).\n",
    "\n",
    "Для создания многомерных массивов можно использовать вложенные списки и списковые сборки"
   ]
  },
  {
   "cell_type": "code",
   "execution_count": 5,
   "metadata": {},
   "outputs": [
    {
     "name": "stdout",
     "output_type": "stream",
     "text": [
      "[[0 1 2 3 4]\n",
      " [1 2 3 4 5]\n",
      " [2 3 4 5 6]\n",
      " [3 4 5 6 7]\n",
      " [4 5 6 7 8]]\n"
     ]
    }
   ],
   "source": [
    "a = np.array([[i+j for i in range(5)] for j in range(5)])\n",
    "print(a)"
   ]
  },
  {
   "cell_type": "markdown",
   "metadata": {},
   "source": [
    "Также имеется ряд функций, предназначенных для создания массивов из нулей, единиц, одинаковых элементов или просто для выделения памяти."
   ]
  },
  {
   "cell_type": "code",
   "execution_count": 6,
   "metadata": {},
   "outputs": [
    {
     "data": {
      "text/plain": [
       "(array([0, 0, 0, 0, 0]), array([[0, 0],\n",
       "        [0, 0],\n",
       "        [0, 0],\n",
       "        [0, 0],\n",
       "        [0, 0]]))"
      ]
     },
     "execution_count": 6,
     "metadata": {},
     "output_type": "execute_result"
    }
   ],
   "source": [
    "# Массив, состоящий целиком из нулей\n",
    "a = np.zeros(5, dtype=int)\n",
    "b = np.zeros(shape=(5, 2), dtype=int)\n",
    "a, b"
   ]
  },
  {
   "cell_type": "code",
   "execution_count": 7,
   "metadata": {},
   "outputs": [
    {
     "data": {
      "text/plain": [
       "(array([[ 1.,  1.],\n",
       "        [ 1.,  1.]]), dtype('float64'))"
      ]
     },
     "execution_count": 7,
     "metadata": {},
     "output_type": "execute_result"
    }
   ],
   "source": [
    "# Массив, состоящий целиком из единиц\n",
    "a = np.ones(shape=(2, 2))\n",
    "a, a.dtype"
   ]
  },
  {
   "cell_type": "code",
   "execution_count": 8,
   "metadata": {},
   "outputs": [
    {
     "data": {
      "text/plain": [
       "array([[ 1.,  0.,  0.,  0.,  0.],\n",
       "       [ 0.,  1.,  0.,  0.,  0.],\n",
       "       [ 0.,  0.,  1.,  0.,  0.],\n",
       "       [ 0.,  0.,  0.,  1.,  0.],\n",
       "       [ 0.,  0.,  0.,  0.,  1.]])"
      ]
     },
     "execution_count": 8,
     "metadata": {},
     "output_type": "execute_result"
    }
   ],
   "source": [
    "# Единичная матрица\n",
    "E = np.eye(5)\n",
    "E"
   ]
  },
  {
   "cell_type": "markdown",
   "metadata": {},
   "source": [
    "Функция `np.arange(start, stop, step)` создает массив из элементов арифметической прогрессии начиная от `start` и заканчивая `stop` (но не включая его) с шагом `step`. Последовательность может состоять из вещественных чисел."
   ]
  },
  {
   "cell_type": "code",
   "execution_count": 9,
   "metadata": {},
   "outputs": [
    {
     "data": {
      "text/plain": [
       "(array([1, 3, 5]), dtype('int64'), array([ 1.,  3.,  5.]), dtype('float64'))"
      ]
     },
     "execution_count": 9,
     "metadata": {},
     "output_type": "execute_result"
    }
   ],
   "source": [
    "a = np.arange(1, 6, 2)\n",
    "b = np.arange(1.0, 6.0, 2.0 )\n",
    "a, a.dtype, b, b.dtype"
   ]
  },
  {
   "cell_type": "markdown",
   "metadata": {},
   "source": [
    "Функция `np.linspace(a, b, N)` разбивает отрезок $(a, b)$ на $N$ частей. Эту функцию удобно применять для задания области определения кривых."
   ]
  },
  {
   "cell_type": "code",
   "execution_count": 10,
   "metadata": {},
   "outputs": [
    {
     "data": {
      "text/plain": [
       "array([ 0.        ,  0.05263158,  0.10526316,  0.15789474,  0.21052632,\n",
       "        0.26315789,  0.31578947,  0.36842105,  0.42105263,  0.47368421,\n",
       "        0.52631579,  0.57894737,  0.63157895,  0.68421053,  0.73684211,\n",
       "        0.78947368,  0.84210526,  0.89473684,  0.94736842,  1.        ])"
      ]
     },
     "execution_count": 10,
     "metadata": {},
     "output_type": "execute_result"
    }
   ],
   "source": [
    "l = np.linspace(0, 1, 20)\n",
    "l"
   ]
  },
  {
   "cell_type": "markdown",
   "metadata": {},
   "source": [
    "Наконец, если необходимо лишь выделить память под данные определенного типа, то можно воспользоваться функцией `np.empty`. Значениями будут произвольные, случайно оказавшиеся в соответствующих ячейках памяти данные."
   ]
  },
  {
   "cell_type": "code",
   "execution_count": 11,
   "metadata": {},
   "outputs": [
    {
     "data": {
      "text/plain": [
       "array([[ 1.,  1.],\n",
       "       [ 1.,  1.]])"
      ]
     },
     "execution_count": 11,
     "metadata": {},
     "output_type": "execute_result"
    }
   ],
   "source": [
    "a = np.empty(shape=(2, 2), dtype=np.float64)\n",
    "a"
   ]
  },
  {
   "cell_type": "markdown",
   "metadata": {},
   "source": [
    "## Характеристики массива и доступ к элементам\n",
    "\n",
    "У каждого `numpy`-массива имеется ряд характеристик, которые хранятся в виде атрибутов.\n",
    "- Число измерений (целое число, атрибут `ndim`).\n",
    "- Форма или иначе число элементов по каждому измерению (кортеж из целых чисел, атрибут `shape`).\n",
    "- Общий размер массива, равный суммарному количеству элементов, содержащихся в массиве (целое число, атрибут `size`).\n",
    "- Тип данных массива (атрибут `dtype`)."
   ]
  },
  {
   "cell_type": "code",
   "execution_count": 12,
   "metadata": {},
   "outputs": [
    {
     "name": "stdout",
     "output_type": "stream",
     "text": [
      "a: ndim=1, shape=(1,), size=1, dtype=float64\n",
      "b: ndim=2, shape=(2, 3), size=6, dtype=float64\n",
      "c: ndim=3, shape=(2, 3, 4), size=24, dtype=int64\n"
     ]
    }
   ],
   "source": [
    "a = np.empty(shape = 1)\n",
    "b = np.empty(shape = (2, 3))\n",
    "c = np.empty(shape = (2, 3, 4), dtype=np.int64)\n",
    "print('a: ndim={0}, shape={1}, size={2}, dtype={3}'.format(a.ndim, a.shape, a.size, a.dtype))\n",
    "print('b: ndim={0}, shape={1}, size={2}, dtype={3}'.format(b.ndim, b.shape, b.size, b.dtype))\n",
    "print('c: ndim={0}, shape={1}, size={2}, dtype={3}'.format(c.ndim, c.shape, c.size, c.dtype))"
   ]
  },
  {
   "cell_type": "markdown",
   "metadata": {},
   "source": [
    "Стандартным способом доступа к элементам массива является доступ по индексам. Здесь синтаксис сходен со стандартным синтаксисом языка `Python` и с другими языками, где индексация начинается с нуля. Кроме доступа к конкретным элементам, можно использовать синтаксис срезов, получая доступ сразу к набору элементов с заданным шагом. Точно также, как и в случае списков, последний элемент диапазона среза не входит в результат среза."
   ]
  },
  {
   "cell_type": "code",
   "execution_count": 13,
   "metadata": {},
   "outputs": [
    {
     "name": "stdout",
     "output_type": "stream",
     "text": [
      "[21 22 23]\n",
      "[11 21 31]\n"
     ]
    }
   ],
   "source": [
    "a = np.array([[11, 12, 13], [21, 22, 23], [31, 32, 33]])\n",
    "# Вся вторая строка\n",
    "print(a[1, :])\n",
    "# Весь первый столбец\n",
    "print(a[:, 0])"
   ]
  },
  {
   "cell_type": "markdown",
   "metadata": {},
   "source": [
    "Перебрать все элементы можно с помощью цикла `for`. Обход при этом будет производиться по строкам."
   ]
  },
  {
   "cell_type": "code",
   "execution_count": 14,
   "metadata": {},
   "outputs": [
    {
     "name": "stdout",
     "output_type": "stream",
     "text": [
      "Строка [11 12 13] и ее элементы: 11 12 13 \n",
      "Строка [21 22 23] и ее элементы: 21 22 23 \n",
      "Строка [31 32 33] и ее элементы: 31 32 33 \n"
     ]
    }
   ],
   "source": [
    "for row in a:\n",
    "    print('Строка', row, end=' и ее элементы: ')\n",
    "    for item in row:\n",
    "        print(item, end=' ')\n",
    "    print()"
   ]
  },
  {
   "cell_type": "markdown",
   "metadata": {},
   "source": [
    "Функция `np.ndenumerate` является эквивалентом функции `enumerate` и служит для последовательного перебора всех элементов массива, возвращая кортеж `(index, item)`, где `index` в свою очередь является кортежем индексов элемента `item`. Рассмотрим пример."
   ]
  },
  {
   "cell_type": "code",
   "execution_count": 15,
   "metadata": {},
   "outputs": [
    {
     "name": "stdout",
     "output_type": "stream",
     "text": [
      "a[0, 0] = 11\n",
      "a[0, 1] = 12\n",
      "a[0, 2] = 13\n",
      "a[1, 0] = 21\n",
      "a[1, 1] = 22\n",
      "a[1, 2] = 23\n",
      "a[2, 0] = 31\n",
      "a[2, 1] = 32\n",
      "a[2, 2] = 33\n"
     ]
    }
   ],
   "source": [
    "for ((i, j), item) in np.ndenumerate(a):\n",
    "    print('a[{0}, {1}] = {2}'.format(i, j, item))"
   ]
  },
  {
   "cell_type": "markdown",
   "metadata": {},
   "source": [
    "Обратите внимание, что и здесь обход производится по строкам. Это связанно со способом хранения элементов массива в ячейках памяти. Так как структуры данных `NumPy` реализованы на языке `C`, то элементы многомерных массивов располагаются в памяти по строкам, поэтому перебор по строкам --- это наиболее быстрый способ последовательного их перебора."
   ]
  },
  {
   "cell_type": "markdown",
   "metadata": {},
   "source": [
    "Кратко упомним основные функции, которые служат для изменения формы массивов.\n",
    "- Функция `np.reshape` позволяет переформатировать массив.\n",
    "- Функции `np.concatenate`, `np.vstack`, `np.hstack` позволяют разными способами слить несколько массивов в один.\n",
    "- Функции `np.split`, `np.split`, `np.hsplit`, наоборот, разбивают массив на части."
   ]
  },
  {
   "cell_type": "markdown",
   "metadata": {},
   "source": [
    "## Алгебраические действия и математические функции"
   ]
  },
  {
   "cell_type": "markdown",
   "metadata": {},
   "source": [
    "Стандартные циклы `Python` весьма медленны. Это обусловлено динамической природой языка, так как при каждой операции над элементами списка интерпретатор должен проверять тип элемента, который не известен заранее. Библиотека `NumPy` устраняет этот недостаток с помощью *векторизации* операций. Векторизованные операции в библиотеке `NumPy` реализованы посредством *универсальных функций* (ufuncs), главная задача которых состоит в быстром выполнении повторяющихся операций над значениями из массивов библиотеки NumPy.\n",
    "\n",
    "При использовании больших массивов, следует избегать обращения к элементам по индексам и стараться работать с массивами в безиндексной форме. Например, если необходимо сложить, умножить, вычесть, разделить или возвести в степень все элементы массива, то можно воспользоваться обычными операторами `+`, `*`, `-`, `/` и `**` как показано в примере."
   ]
  },
  {
   "cell_type": "code",
   "execution_count": 16,
   "metadata": {},
   "outputs": [
    {
     "name": "stdout",
     "output_type": "stream",
     "text": [
      "2.25 ms ± 16.1 µs per loop (mean ± std. dev. of 7 runs, 100 loops each)\n",
      "2.24 ms ± 8.93 µs per loop (mean ± std. dev. of 7 runs, 100 loops each)\n",
      "2.25 ms ± 9.63 µs per loop (mean ± std. dev. of 7 runs, 100 loops each)\n",
      "4.27 ms ± 2.56 µs per loop (mean ± std. dev. of 7 runs, 100 loops each)\n",
      "1.52 ms ± 4.75 µs per loop (mean ± std. dev. of 7 runs, 1000 loops each)\n"
     ]
    }
   ],
   "source": [
    "x = np.random.random(size=10**6)\n",
    "y = np.random.random(size=10**6)\n",
    "%timeit x + y\n",
    "%timeit x * y\n",
    "%timeit x - y\n",
    "%timeit x / y\n",
    "%timeit x**2"
   ]
  },
  {
   "cell_type": "markdown",
   "metadata": {},
   "source": [
    "Если же теперь проделать все те же действия с помощью обычного цикла, обращаясь к элементам массива по индексу, то суммирование будет произведено более чем в 100 раз медленнее."
   ]
  },
  {
   "cell_type": "code",
   "execution_count": 17,
   "metadata": {},
   "outputs": [
    {
     "name": "stdout",
     "output_type": "stream",
     "text": [
      "565 ms ± 2.73 ms per loop (mean ± std. dev. of 7 runs, 1 loop each)\n"
     ]
    }
   ],
   "source": [
    "%%timeit\n",
    "for i in range(10**6):\n",
    "    x[i] = x[i] + y[i]"
   ]
  },
  {
   "cell_type": "markdown",
   "metadata": {},
   "source": [
    "Кроме арифметических операторов, определены универсальные функции для стандартных математических действий, вроде нахождения абсолютного значения всех элементов, среднего, максимального и минимального значений. Также векторизированы элементарные математически функции (тригонометрические, гиперболические, экспонента, логарифмы, квадратный корень). Рассмотрим примеры их использования и оценим ускорение операций, которого они позволяют достичь."
   ]
  },
  {
   "cell_type": "code",
   "execution_count": 18,
   "metadata": {},
   "outputs": [
    {
     "name": "stdout",
     "output_type": "stream",
     "text": [
      "221 ms ± 1.34 ms per loop (mean ± std. dev. of 7 runs, 1 loop each)\n",
      "1.52 ms ± 4.17 µs per loop (mean ± std. dev. of 7 runs, 1000 loops each)\n"
     ]
    }
   ],
   "source": [
    "%timeit [abs(item) for item in x]\n",
    "%timeit np.abs(x)"
   ]
  },
  {
   "cell_type": "markdown",
   "metadata": {},
   "source": [
    "Теперь сравним математические функции из стандартного модуля `math` и векторизированные математические функции из библиотеки `NumPy`."
   ]
  },
  {
   "cell_type": "code",
   "execution_count": 19,
   "metadata": {},
   "outputs": [
    {
     "name": "stdout",
     "output_type": "stream",
     "text": [
      "327 ms ± 290 µs per loop (mean ± std. dev. of 7 runs, 1 loop each)\n",
      "45.6 ms ± 43.5 µs per loop (mean ± std. dev. of 7 runs, 10 loops each)\n"
     ]
    }
   ],
   "source": [
    "%timeit [math.sin(item) for item in x]\n",
    "%timeit np.sin(x)"
   ]
  },
  {
   "cell_type": "code",
   "execution_count": 20,
   "metadata": {},
   "outputs": [
    {
     "name": "stdout",
     "output_type": "stream",
     "text": [
      "278 ms ± 280 µs per loop (mean ± std. dev. of 7 runs, 1 loop each)\n",
      "4.26 ms ± 406 ns per loop (mean ± std. dev. of 7 runs, 100 loops each)\n"
     ]
    }
   ],
   "source": [
    "%timeit [math.sqrt(item) for item in x]\n",
    "%timeit np.sqrt(x)"
   ]
  },
  {
   "cell_type": "markdown",
   "metadata": {},
   "source": [
    "Как видно из результатов, векторизированные функции обеспечивают ускорение на порядок, а в ряде случаев и на два порядка. Однако встроенные функции выигрывают в случае операции над скалярными данными."
   ]
  },
  {
   "cell_type": "code",
   "execution_count": 21,
   "metadata": {},
   "outputs": [
    {
     "name": "stdout",
     "output_type": "stream",
     "text": [
      "171 ns ± 0.719 ns per loop (mean ± std. dev. of 7 runs, 10000000 loops each)\n",
      "1.15 µs ± 0.977 ns per loop (mean ± std. dev. of 7 runs, 1000000 loops each)\n"
     ]
    }
   ],
   "source": [
    "%timeit math.sin(2.0)\n",
    "%timeit np.sin(2.0)"
   ]
  },
  {
   "cell_type": "code",
   "execution_count": 22,
   "metadata": {},
   "outputs": [
    {
     "name": "stdout",
     "output_type": "stream",
     "text": [
      "149 ns ± 0.684 ns per loop (mean ± std. dev. of 7 runs, 10000000 loops each)\n",
      "1.14 µs ± 3.53 ns per loop (mean ± std. dev. of 7 runs, 1000000 loops each)\n"
     ]
    }
   ],
   "source": [
    "%timeit math.sqrt(2.0)\n",
    "%timeit np.sqrt(2.0)"
   ]
  },
  {
   "cell_type": "markdown",
   "metadata": {},
   "source": [
    "Некоторые из векторизированных функций могут задействовать несколько ядер процессора. Такова, например, функция `dot`, вычисляющая скалярное произведение двух массивов."
   ]
  },
  {
   "cell_type": "code",
   "execution_count": 23,
   "metadata": {},
   "outputs": [
    {
     "name": "stdout",
     "output_type": "stream",
     "text": [
      "956 µs ± 15 µs per loop (mean ± std. dev. of 7 runs, 1000 loops each)\n"
     ]
    }
   ],
   "source": [
    "%timeit np.dot(x, y)"
   ]
  }
 ],
 "metadata": {
  "kernelspec": {
   "display_name": "Python 3",
   "language": "python",
   "name": "python3"
  },
  "language_info": {
   "codemirror_mode": {
    "name": "ipython",
    "version": 3
   },
   "file_extension": ".py",
   "mimetype": "text/x-python",
   "name": "python",
   "nbconvert_exporter": "python",
   "pygments_lexer": "ipython3",
   "version": "3.6.3"
  }
 },
 "nbformat": 4,
 "nbformat_minor": 1
}
