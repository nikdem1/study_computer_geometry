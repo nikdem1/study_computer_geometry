{
 "cells": [
  {
   "cell_type": "markdown",
   "metadata": {},
   "source": [
    "# Параболическая интерполяция"
   ]
  },
  {
   "cell_type": "code",
   "execution_count": null,
   "metadata": {},
   "outputs": [],
   "source": [
    "%matplotlib inline\n",
    "import numpy as np\n",
    "import matplotlib.pyplot as plt\n",
    "import fractions"
   ]
  },
  {
   "cell_type": "code",
   "execution_count": null,
   "metadata": {},
   "outputs": [],
   "source": [
    "plt.style.use('../../default_colors.mplstyle')"
   ]
  },
  {
   "cell_type": "code",
   "execution_count": null,
   "metadata": {},
   "outputs": [],
   "source": [
    "def F1(α, t):\n",
    "    \"\"\"Весовая функции `F_1`\"\"\"\n",
    "    return ((1 - α)**2 / α) * (-t**3 + 2*t**2 - t)\n",
    "\n",
    "\n",
    "def F2(α, β, t):\n",
    "    \"\"\"Весовая функции `F_2`\"\"\"\n",
    "    res = 0\n",
    "    res += ((1-α + α*β) / α) * t**3\n",
    "    res += ((-2*(1 - α) - α * β) / α) * t**2\n",
    "    res += ((1 - 2*α) / α) * t + 1\n",
    "    return res;\n",
    "\n",
    "\n",
    "def F3(α, β, t):\n",
    "    \"\"\"Весовая функции `F_3`\"\"\"\n",
    "    res = 0\n",
    "    res += (-1 + α - α * β) / (1 - β) * t**3\n",
    "    res += (2*(1-α) - β * (1-2*α)) / α * t**2\n",
    "    res += α * t\n",
    "    return res\n",
    "\n",
    "\n",
    "def F4(β, t):\n",
    "    \"\"\"Весовая функции `F_4`\"\"\"\n",
    "    return (β**2 / (1 - β)) * (t - 1)*t**2"
   ]
  },
  {
   "cell_type": "code",
   "execution_count": null,
   "metadata": {},
   "outputs": [],
   "source": [
    "def calc_alpha(P):\n",
    "    \"\"\"Вычисление коэффициента α\"\"\"\n",
    "    return np.linalg.norm(P[1] - P[0]) / (np.linalg.norm(P[2] - P[1]) + np.linalg.norm(P[1] - P[0]))\n",
    "\n",
    "\n",
    "def calc_beta(P):\n",
    "    \"\"\"Вычисление коэффициента β\"\"\"\n",
    "    return np.linalg.norm(P[2] - P[1]) / (np.linalg.norm(P[3] - P[2]) + np.linalg.norm(P[2] - P[1]))\n",
    "\n",
    "\n",
    "def parabola_01(α, P, t_1):\n",
    "    \"\"\"Правая параметрическая парабола\"\"\"\n",
    "    T = np.array([t_1**2, t_1, np.ones_like(t_1)]).T\n",
    "    A = np.array([[0, 0, 1],\n",
    "                  [α**2, α, 1],\n",
    "                  [1, 1, 1]])\n",
    "    B = np.linalg.solve(A, P)\n",
    "    return np.matmul(T, B)\n",
    "\n",
    "\n",
    "def parabola_02(β, P, t_2):\n",
    "    \"\"\"Левая параметрическая парабола\"\"\"\n",
    "    return parabola_01(β, P, t_2)\n",
    "\n",
    "\n",
    "def r(α, β, P, ts):\n",
    "    \"\"\"Результат интерполяции\"\"\"\n",
    "    return (1 - ts[:, np.newaxis]) * parabola_01(α, P[:3], (1-α)*ts+α) + \\\n",
    "                ts[:, np.newaxis]  * parabola_02(β, P[1:], β*ts)"
   ]
  },
  {
   "cell_type": "code",
   "execution_count": null,
   "metadata": {},
   "outputs": [],
   "source": [
    "P = [\n",
    "    (0, 0), (1, 1), (2, -1), (3, 0)\n",
    "]\n",
    "P = np.array(P)\n",
    "P"
   ]
  },
  {
   "cell_type": "code",
   "execution_count": null,
   "metadata": {},
   "outputs": [],
   "source": [
    "ts = np.linspace(start=0, stop=1, num=100)"
   ]
  },
  {
   "cell_type": "code",
   "execution_count": null,
   "metadata": {},
   "outputs": [],
   "source": [
    "α = calc_alpha(P)\n",
    "β = calc_beta(P)"
   ]
  },
  {
   "cell_type": "code",
   "execution_count": null,
   "metadata": {},
   "outputs": [],
   "source": [
    "# Хорды P0P1 и P2P3 равны\n",
    "α + β == 1"
   ]
  },
  {
   "cell_type": "code",
   "execution_count": null,
   "metadata": {},
   "outputs": [],
   "source": [
    "fig01 = plt.figure(num=1, dpi=400)\n",
    "ax01 = fig01.add_subplot(1, 1, 1)\n",
    "\n",
    "ax01.plot(*P.T, marker='o', color='k', linewidth=0.5)\n",
    "ax01.plot(*parabola_01(α, P[:3], ts).T, linewidth=0.65, label=\"Парабола $\\mathbf{r}_1(t_1)$\")\n",
    "ax01.plot(*parabola_02(β, P[1:], ts).T, linewidth=0.65, label=\"Парабола $\\mathbf{r}_2(t_2)$\")\n",
    "\n",
    "ax01.plot(*r(α, β, P, ts).T, label=\"$\\mathbf{r}(t)$\")\n",
    "\n",
    "ax01.legend(loc='best')"
   ]
  },
  {
   "cell_type": "code",
   "execution_count": null,
   "metadata": {},
   "outputs": [],
   "source": [
    "fig02 = plt.figure(num=1, dpi=400)\n",
    "ax02 = fig02.add_subplot(1, 1, 1)\n",
    "\n",
    "# ax02.set_ylim(bottom=-1.3, top=0)\n",
    "\n",
    "ax02.plot(ts, F1(α, ts), linewidth=0.75, label=\"$F_1(α, t)$\")\n",
    "ax02.plot(ts, F2(α, β, ts), linewidth=0.75, label=\"$F_2(α, β, t)$\")\n",
    "ax02.plot(ts, F3(α, β, ts), linewidth=0.75, label=\"$F_3(α, β, t)$\")\n",
    "ax02.plot(ts, F4(β, ts), linewidth=0.75, label=\"$F_4(β, t)$\")\n",
    "\n",
    "ax02.legend(loc='best')"
   ]
  },
  {
   "cell_type": "code",
   "execution_count": null,
   "metadata": {},
   "outputs": [],
   "source": []
  }
 ],
 "metadata": {
  "kernelspec": {
   "display_name": "Python 3",
   "language": "python",
   "name": "python3"
  },
  "language_info": {
   "codemirror_mode": {
    "name": "ipython",
    "version": 3
   },
   "file_extension": ".py",
   "mimetype": "text/x-python",
   "name": "python",
   "nbconvert_exporter": "python",
   "pygments_lexer": "ipython3",
   "version": "3.8.5"
  }
 },
 "nbformat": 4,
 "nbformat_minor": 4
}
