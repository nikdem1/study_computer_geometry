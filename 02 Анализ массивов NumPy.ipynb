{
 "cells": [
  {
   "cell_type": "markdown",
   "metadata": {},
   "source": [
    "# 02 Анализ массивов NumPy"
   ]
  },
  {
   "cell_type": "code",
   "execution_count": 2,
   "metadata": {
    "collapsed": true
   },
   "outputs": [],
   "source": [
    "# -*- coding: utf-8 -*-\n",
    "import numpy as np"
   ]
  },
  {
   "cell_type": "markdown",
   "metadata": {},
   "source": [
    "## Статистические характеристики данных"
   ]
  },
  {
   "cell_type": "markdown",
   "metadata": {},
   "source": [
    "В библиотеке `NumPy` определены функции для вычисления статистических характеристик данных, содержащихся в массиве. Все эти функции могут применяться как ко всем элементам, так и к элементам лишь вдоль указанной размерности. Перечислим важнейшие из этих функций.\n",
    "- `np.max`, `np.min` --- максимум и минимум.\n",
    "- `np.sum`, `np.cumsum` --- сумма и накопленная (кумулятивная) сумма.\n",
    "- `np.prod`, `np.cumprod` --- произведение или накопленное (кумулятивное) произведение.\n",
    "- `np.mean`, `np.var` --- среднее и вариация (эмпирическая дисперсия).\n",
    "- `np.percentile` --- квантили.\n",
    "\n",
    "Рассмотрим примеры применения этих функций."
   ]
  },
  {
   "cell_type": "code",
   "execution_count": 3,
   "metadata": {},
   "outputs": [
    {
     "name": "stdout",
     "output_type": "stream",
     "text": [
      "a = [1 2 3 4 5],\n",
      "max(a) = 5, min(a) = 1,\n",
      "sum(a) = 15, cumsum(a) = [ 1  3  6 10 15],\n",
      "prod(a) = 120, cumprod(a) = [  1   2   6  24 120],\n",
      "mean(a) = 3.0, var(a) = 2.0,\n",
      "percentile(a, q=50) = 3.0 # медиана\n",
      "\n"
     ]
    }
   ],
   "source": [
    "a = np.arange(1, 6, 1)\n",
    "res = \"\"\"a = {},\n",
    "max(a) = {}, min(a) = {},\n",
    "sum(a) = {}, cumsum(a) = {},\n",
    "prod(a) = {}, cumprod(a) = {},\n",
    "mean(a) = {}, var(a) = {},\n",
    "percentile(a, q=50) = {} # медиана\n",
    "\"\"\".format(a, np.max(a), np.min(a), np.sum(a), np.cumsum(a), np.prod(a),\n",
    "           np.cumprod(a),np.mean(a), np.var(a), np.percentile(a, q=50))\n",
    "print(res)"
   ]
  },
  {
   "cell_type": "code",
   "execution_count": 4,
   "metadata": {},
   "outputs": [
    {
     "data": {
      "text/plain": [
       "(array([12, 15, 18]), array([ 6, 15, 24]), 45)"
      ]
     },
     "execution_count": 4,
     "metadata": {},
     "output_type": "execute_result"
    }
   ],
   "source": [
    "b = np.array([[1, 2, 3], [4, 5, 6], [7, 8, 9]])\n",
    "# суммирование по первому и второму измерениям, а также по всем элементам\n",
    "b.sum(axis=0), b.sum(axis=1), b.sum()"
   ]
  },
  {
   "cell_type": "markdown",
   "metadata": {},
   "source": [
    "## Логические операции над массивами"
   ]
  },
  {
   "cell_type": "markdown",
   "metadata": {},
   "source": [
    "Операции сравнения (`<`, `>` и т.д.) реализованы в библиотеке `NumPy` как поэлементные векторизованные функции. Пользоваться ими можно также как и арифметическими операторами. В качестве результата будут возвращены *логические маски*. Рассмотрим примеры. "
   ]
  },
  {
   "cell_type": "code",
   "execution_count": 5,
   "metadata": {},
   "outputs": [
    {
     "name": "stdout",
     "output_type": "stream",
     "text": [
      "a > 0 [ True False  True False  True False  True]\n",
      "a < 0 [False  True False False False  True False]\n",
      "a >= 0 [ True False  True  True  True False  True]\n",
      "a <= 0 [False  True False  True False  True False]\n",
      "a == 0 [False False False  True False False False]\n"
     ]
    }
   ],
   "source": [
    "a = np.array([1, -1, 2, 0, 3, -2, 1])\n",
    "print('a > 0', a > 0)\n",
    "print('a < 0', a < 0)\n",
    "print('a >= 0', a >= 0)\n",
    "print('a <= 0', a <= 0)\n",
    "print('a == 0', a == 0)"
   ]
  },
  {
   "cell_type": "markdown",
   "metadata": {},
   "source": [
    "Если передать результаты операции логического сравнения массиву в качестве индексов, то будут отобраны только те элементы, которые удовлетворяют переданному условию. Рассмотрим пример."
   ]
  },
  {
   "cell_type": "code",
   "execution_count": 6,
   "metadata": {},
   "outputs": [
    {
     "name": "stdout",
     "output_type": "stream",
     "text": [
      "Элементы a > 0: [1 2 3 1]\n",
      "Элементы a < 0: [-1 -2]\n",
      "Элементы a >= 0: [1 2 0 3 1]\n",
      "Элементы a <= 0: [-1  0 -2]\n",
      "Элементы a == 0: [0]\n"
     ]
    }
   ],
   "source": [
    "print('Элементы a > 0:', a[a > 0])\n",
    "print('Элементы a < 0:', a[a < 0])\n",
    "print('Элементы a >= 0:', a[a >= 0])\n",
    "print('Элементы a <= 0:', a[a <= 0])\n",
    "print('Элементы a == 0:', a[a == 0])"
   ]
  },
  {
   "cell_type": "markdown",
   "metadata": {},
   "source": [
    "Для создания более сложных логических условий можно использовать специальные функции `np.logical_and`, `logical_or`, `logical_not` и `logical_xor`. Они служат заменителями стандартных операторов `and`, `or`, `not` и `xor`. Гораздо удобнее применять побитовые логические операции `&` и `|`. В случае логических логических масок побитовые операторы полностью заменяют обычные логические операции."
   ]
  },
  {
   "cell_type": "code",
   "execution_count": 7,
   "metadata": {},
   "outputs": [
    {
     "data": {
      "text/plain": [
       "array([1, 0, 1])"
      ]
     },
     "execution_count": 7,
     "metadata": {},
     "output_type": "execute_result"
    }
   ],
   "source": [
    "# все элементы из отрезка [0, 1]\n",
    "a[(a >= 0) & (a <= 1)]"
   ]
  },
  {
   "cell_type": "markdown",
   "metadata": {},
   "source": [
    "Комбинируя логические операции с универсальными функциями можно отфильтровать данные и сразу же применить к ним желаемые операции."
   ]
  },
  {
   "cell_type": "code",
   "execution_count": 8,
   "metadata": {},
   "outputs": [
    {
     "data": {
      "text/plain": [
       "7"
      ]
     },
     "execution_count": 8,
     "metadata": {},
     "output_type": "execute_result"
    }
   ],
   "source": [
    "a[a>0].sum()"
   ]
  },
  {
   "cell_type": "code",
   "execution_count": 9,
   "metadata": {
    "scrolled": true
   },
   "outputs": [
    {
     "data": {
      "text/plain": [
       "2"
      ]
     },
     "execution_count": 9,
     "metadata": {},
     "output_type": "execute_result"
    }
   ],
   "source": [
    "a[(a >= 0) & (a <= 1)].sum()"
   ]
  },
  {
   "cell_type": "markdown",
   "metadata": {},
   "source": [
    "Функция `np.count_nonzero` позволяет вычислить количество ненулевых элементов в массиве. Так как логическое значение `True` интерпретируется как `1`, а значение `False` как `0` то с помощью `np.count_nonzero`, можно проверять массивы на наличие элементов, удовлетворяющих самым разнообразным условиям."
   ]
  },
  {
   "cell_type": "code",
   "execution_count": 10,
   "metadata": {},
   "outputs": [
    {
     "data": {
      "text/plain": [
       "3"
      ]
     },
     "execution_count": 10,
     "metadata": {},
     "output_type": "execute_result"
    }
   ],
   "source": [
    "# Есть ли элементы из отрезка [0, 1]\n",
    "np.count_nonzero((a >= 0) & (a <= 1))"
   ]
  },
  {
   "cell_type": "markdown",
   "metadata": {},
   "source": [
    "Функция `np.any` принимает в качестве аргумента массив с логическими элементами и возвращает истину в случае если в массиве есть хотя бы один истинный элемент. В свою очередь функция `np.all` возвращает истину, если в массиве все элементы истины. Эти функции могут заменить `count_nonzero` в случае, если число элементов, удовлетворяющих условию нам не интересно."
   ]
  },
  {
   "cell_type": "code",
   "execution_count": 11,
   "metadata": {},
   "outputs": [
    {
     "data": {
      "text/plain": [
       "(True, False)"
      ]
     },
     "execution_count": 11,
     "metadata": {},
     "output_type": "execute_result"
    }
   ],
   "source": [
    "np.any(a > 0), np.all(a > 1)"
   ]
  },
  {
   "cell_type": "markdown",
   "metadata": {},
   "source": [
    "Стоит отметить, что в языке `Python` есть встроенные функции `any`и `all`, которые для не очень больших одномерных массивов работают даже быстрее, чем функции `NumPy`. Проверим это утверждение на примере."
   ]
  },
  {
   "cell_type": "code",
   "execution_count": 12,
   "metadata": {},
   "outputs": [
    {
     "name": "stdout",
     "output_type": "stream",
     "text": [
      "Для массива из {} элементов:\n",
      "6.16 µs ± 34.5 ns per loop (mean ± std. dev. of 7 runs, 100000 loops each)\n",
      "2.03 µs ± 3.81 ns per loop (mean ± std. dev. of 7 runs, 100000 loops each)\n",
      "6.17 µs ± 14.6 ns per loop (mean ± std. dev. of 7 runs, 100000 loops each)\n",
      "1.98 µs ± 16.2 ns per loop (mean ± std. dev. of 7 runs, 1000000 loops each)\n",
      "Для массива из {} элементов:\n",
      "11.9 µs ± 82.5 ns per loop (mean ± std. dev. of 7 runs, 100000 loops each)\n",
      "6.42 µs ± 27.4 ns per loop (mean ± std. dev. of 7 runs, 100000 loops each)\n",
      "11.8 µs ± 33 ns per loop (mean ± std. dev. of 7 runs, 100000 loops each)\n",
      "6.33 µs ± 18.3 ns per loop (mean ± std. dev. of 7 runs, 100000 loops each)\n",
      "Для массива из {} элементов:\n",
      "71.9 µs ± 1.42 µs per loop (mean ± std. dev. of 7 runs, 10000 loops each)\n",
      "62.9 µs ± 168 ns per loop (mean ± std. dev. of 7 runs, 10000 loops each)\n",
      "70.9 µs ± 102 ns per loop (mean ± std. dev. of 7 runs, 10000 loops each)\n",
      "63.2 µs ± 685 ns per loop (mean ± std. dev. of 7 runs, 10000 loops each)\n",
      "Для массива из {} элементов:\n",
      "862 µs ± 3.89 µs per loop (mean ± std. dev. of 7 runs, 1000 loops each)\n",
      "819 µs ± 3.07 µs per loop (mean ± std. dev. of 7 runs, 1000 loops each)\n",
      "862 µs ± 4.29 µs per loop (mean ± std. dev. of 7 runs, 1000 loops each)\n",
      "818 µs ± 2.96 µs per loop (mean ± std. dev. of 7 runs, 1000 loops each)\n"
     ]
    }
   ],
   "source": [
    "for i in range(3,7):\n",
    "    print(\"Для массива из {} элементов:\".format(i))\n",
    "    r = np.random.random(10**i)\n",
    "    %timeit np.any(r>0.5)\n",
    "    %timeit any(r>0.5)\n",
    "    %timeit np.all(r>0.5)\n",
    "    %timeit all(r>0.5)"
   ]
  },
  {
   "cell_type": "markdown",
   "metadata": {},
   "source": [
    "Однако если `NumPy` функции можно применять и к многомерным массивам, то встроенные нельзя, поэтому `NumPy` функции являются более универсальными."
   ]
  }
 ],
 "metadata": {
  "kernelspec": {
   "display_name": "Python 3",
   "language": "python",
   "name": "python3"
  },
  "language_info": {
   "codemirror_mode": {
    "name": "ipython",
    "version": 3
   },
   "file_extension": ".py",
   "mimetype": "text/x-python",
   "name": "python",
   "nbconvert_exporter": "python",
   "pygments_lexer": "ipython3",
   "version": "3.6.3"
  }
 },
 "nbformat": 4,
 "nbformat_minor": 2
}
